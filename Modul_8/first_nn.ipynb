{
  "cells": [
    {
      "cell_type": "markdown",
      "metadata": {
        "id": "view-in-github",
        "colab_type": "text"
      },
      "source": [
        "<a href=\"https://colab.research.google.com/github/Haralld/python_fullstack_class/blob/main/first_nn.ipynb\" target=\"_parent\"><img src=\"https://colab.research.google.com/assets/colab-badge.svg\" alt=\"Open In Colab\"/></a>"
      ]
    },
    {
      "cell_type": "markdown",
      "metadata": {
        "id": "iYOqeUa8WByt"
      },
      "source": [
        "# ML #4 \"Создание и обучение первой нейронной сети.\""
      ]
    },
    {
      "cell_type": "markdown",
      "metadata": {
        "id": "eDFMp_F2WNAB"
      },
      "source": [
        "1) Подключение библиотек"
      ]
    },
    {
      "cell_type": "code",
      "execution_count": null,
      "metadata": {
        "id": "dFXgY76XWgG-"
      },
      "outputs": [],
      "source": [
        "import matplotlib.pyplot as plt\n",
        "import numpy as np\n",
        "import PIL\n",
        "import tensorflow as tf\n",
        "import random\n",
        "\n",
        "from tensorflow import keras\n",
        "from keras import layers\n",
        "from keras.models import Sequential\n",
        "import pathlib\n",
        "from typing import List, Tuple, Union"
      ]
    },
    {
      "cell_type": "markdown",
      "metadata": {
        "id": "x7QhwYM9Xk-p"
      },
      "source": [
        "2) Загрузка и извлечение датасета\n"
      ]
    },
    {
      "cell_type": "code",
      "execution_count": null,
      "metadata": {
        "colab": {
          "base_uri": "https://localhost:8080/"
        },
        "id": "iClcMrUeXxlk",
        "outputId": "c1a421ea-88e9-4bf1-f639-5764e4dd9b8c"
      },
      "outputs": [
        {
          "output_type": "stream",
          "name": "stdout",
          "text": [
            "Downloading data from https://storage.googleapis.com/download.tensorflow.org/example_images/flower_photos.tgz\n",
            "228813984/228813984 [==============================] - 2s 0us/step\n"
          ]
        }
      ],
      "source": [
        "dataset_url: str = \"https://storage.googleapis.com/download.tensorflow.org/example_images/flower_photos.tgz\"\n",
        "dataset_dir: pathlib.Path = pathlib.Path(tf.keras.utils.get_file('flower_photos.tar', origin=dataset_url, extract=True)).with_suffix('')"
      ]
    },
    {
      "cell_type": "markdown",
      "metadata": {
        "id": "9SkSH0x1gWoB"
      },
      "source": [
        "3) Проверка датасета"
      ]
    },
    {
      "cell_type": "code",
      "execution_count": null,
      "metadata": {
        "colab": {
          "base_uri": "https://localhost:8080/"
        },
        "id": "FL0TZf-NgZdE",
        "outputId": "1ae4d80e-a74e-4f2e-922d-7ee6863a97f4"
      },
      "outputs": [
        {
          "output_type": "stream",
          "name": "stdout",
          "text": [
            "3670\n"
          ]
        }
      ],
      "source": [
        "image_count: int = len(list(dataset_dir.glob(\"*/*.jpg\")))\n",
        "print(image_count)"
      ]
    },
    {
      "cell_type": "markdown",
      "metadata": {
        "id": "mlkeLJADgvph"
      },
      "source": [
        "4) Подготовка данных и модели"
      ]
    },
    {
      "cell_type": "code",
      "execution_count": null,
      "metadata": {
        "colab": {
          "base_uri": "https://localhost:8080/"
        },
        "id": "k3gTsYB_gz7S",
        "outputId": "4a98d4ff-853f-4f3f-adde-0c9742a52c64"
      },
      "outputs": [
        {
          "output_type": "stream",
          "name": "stdout",
          "text": [
            "Found 3670 files belonging to 5 classes.\n",
            "Using 2936 files for training.\n",
            "Found 3670 files belonging to 5 classes.\n",
            "Using 734 files for validation.\n"
          ]
        }
      ],
      "source": [
        "batch_size = 32\n",
        "img_widht = 180\n",
        "img_height = 180\n",
        "random_seed = random.randint(0, 9999)\n",
        "\n",
        "def create_image_dataset(\n",
        "    dataset_dir: pathlib.Path,\n",
        "    subset: str,\n",
        "    image_size: Tuple[int, int],\n",
        "    batch_size: int\n",
        ") -> tf.data.Dataset:\n",
        "  return tf.keras.utils.image_dataset_from_directory(\n",
        "      dataset_dir,\n",
        "      validation_split=0.2,\n",
        "      subset=subset,\n",
        "      seed=random_seed,\n",
        "      image_size=image_size,\n",
        "      batch_size=batch_size\n",
        "  )\n",
        "\n",
        "train_ds_original: tf.data.Dataset = create_image_dataset(dataset_dir, 'training', (img_height, img_widht), batch_size)\n",
        "val_ds_original: tf.data.Dataset = create_image_dataset(dataset_dir, 'validation', (img_height, img_widht), batch_size)"
      ]
    },
    {
      "cell_type": "markdown",
      "metadata": {
        "id": "n2oA5OyEkTh6"
      },
      "source": [
        "5) Подготовака данных с кэшированием и предварительной загрузкой"
      ]
    },
    {
      "cell_type": "code",
      "execution_count": null,
      "metadata": {
        "colab": {
          "base_uri": "https://localhost:8080/"
        },
        "id": "vrhCrblBkjDy",
        "outputId": "d0228155-f5bd-4a5e-a226-1600f8f63a98"
      },
      "outputs": [
        {
          "output_type": "stream",
          "name": "stdout",
          "text": [
            "Class names: ['daisy', 'dandelion', 'roses', 'sunflowers', 'tulips']\n"
          ]
        }
      ],
      "source": [
        "class_names: list[str] = train_ds_original.class_names\n",
        "print(f'Class names: {class_names}')\n",
        "\n",
        "AUTOTUNE: int = tf.data.AUTOTUNE\n",
        "train_ds = train_ds_original.cache().shuffle(1000).prefetch(buffer_size=AUTOTUNE)\n",
        "val_ds = val_ds_original.cache().prefetch(buffer_size=AUTOTUNE)"
      ]
    },
    {
      "cell_type": "markdown",
      "metadata": {
        "id": "wOvo6aoInP6l"
      },
      "source": [
        "6) Создание модели нейронной сети"
      ]
    },
    {
      "cell_type": "code",
      "execution_count": null,
      "metadata": {
        "id": "CYnrMzYmnUJk"
      },
      "outputs": [],
      "source": [
        "num_classes: int = len(class_names)\n",
        "model: keras.Sequential = Sequential([\n",
        "    tf.keras.layers.experimental.preprocessing.Rescaling(1./255, input_shape=(img_height, img_widht, 3)),\n",
        "    layers.Conv2D(16, 3, padding=\"same\", activation='relu'),\n",
        "    layers.MaxPooling2D(),\n",
        "    layers.Conv2D(32, 3, padding=\"same\", activation='relu'),\n",
        "    layers.MaxPooling2D(),\n",
        "    layers.Conv2D(64, 3, padding=\"same\", activation='relu'),\n",
        "    layers.Flatten(),\n",
        "    layers.Dense(128, activation='relu'),\n",
        "    layers.Dense(num_classes)\n",
        "])"
      ]
    },
    {
      "cell_type": "markdown",
      "metadata": {
        "id": "Y53qUwaUpOrV"
      },
      "source": [
        "7) Компиляция модели"
      ]
    },
    {
      "cell_type": "code",
      "execution_count": null,
      "metadata": {
        "id": "PZ-p9lLupUlp"
      },
      "outputs": [],
      "source": [
        "model.compile(\n",
        "    optimizer='adam',\n",
        "    loss=tf.keras.losses.SparseCategoricalCrossentropy(from_logits=True),\n",
        "    metrics=['accuracy']\n",
        ")"
      ]
    },
    {
      "cell_type": "markdown",
      "metadata": {
        "id": "0sIfk_uKp5z4"
      },
      "source": [
        "8) Обучение модели"
      ]
    },
    {
      "cell_type": "code",
      "execution_count": null,
      "metadata": {
        "colab": {
          "base_uri": "https://localhost:8080/"
        },
        "id": "JWFoHpirp-0N",
        "outputId": "8095f8ce-4646-4df2-e0bd-22e3bf474e7b"
      },
      "outputs": [
        {
          "output_type": "stream",
          "name": "stdout",
          "text": [
            "Epoch 1/10\n",
            "92/92 [==============================] - 159s 2s/step - loss: 1.3699 - accuracy: 0.4554 - val_loss: 1.1722 - val_accuracy: 0.5204\n",
            "Epoch 2/10\n",
            "92/92 [==============================] - 155s 2s/step - loss: 0.9467 - accuracy: 0.6270 - val_loss: 1.1043 - val_accuracy: 0.5790\n",
            "Epoch 3/10\n",
            "92/92 [==============================] - 149s 2s/step - loss: 0.7029 - accuracy: 0.7357 - val_loss: 1.1241 - val_accuracy: 0.5940\n",
            "Epoch 4/10\n",
            "92/92 [==============================] - 117s 1s/step - loss: 0.4688 - accuracy: 0.8348 - val_loss: 1.2181 - val_accuracy: 0.5681\n",
            "Epoch 5/10\n",
            "92/92 [==============================] - 153s 2s/step - loss: 0.2674 - accuracy: 0.9108 - val_loss: 1.5125 - val_accuracy: 0.5763\n",
            "Epoch 6/10\n",
            "92/92 [==============================] - 130s 1s/step - loss: 0.1167 - accuracy: 0.9632 - val_loss: 1.7222 - val_accuracy: 0.5749\n",
            "Epoch 7/10\n",
            "92/92 [==============================] - 135s 1s/step - loss: 0.0483 - accuracy: 0.9884 - val_loss: 2.1614 - val_accuracy: 0.5695\n",
            "Epoch 8/10\n",
            "92/92 [==============================] - 121s 1s/step - loss: 0.0434 - accuracy: 0.9888 - val_loss: 2.2417 - val_accuracy: 0.5872\n",
            "Epoch 9/10\n",
            "92/92 [==============================] - 120s 1s/step - loss: 0.0365 - accuracy: 0.9908 - val_loss: 2.4219 - val_accuracy: 0.5899\n",
            "Epoch 10/10\n",
            "92/92 [==============================] - 121s 1s/step - loss: 0.0657 - accuracy: 0.9799 - val_loss: 2.4019 - val_accuracy: 0.5749\n"
          ]
        }
      ],
      "source": [
        "epochs: int = 10\n",
        "history: keras.callbacks.History = model.fit(\n",
        "    train_ds,\n",
        "    validation_data=val_ds,\n",
        "    epochs=epochs\n",
        ")"
      ]
    },
    {
      "cell_type": "markdown",
      "metadata": {
        "id": "EXen21O1qb0q"
      },
      "source": [
        "9) Получение истории обучения модели"
      ]
    },
    {
      "cell_type": "code",
      "execution_count": null,
      "metadata": {
        "id": "EagoXEdbqit1",
        "colab": {
          "base_uri": "https://localhost:8080/"
        },
        "outputId": "1f74ff71-ed21-40dc-e4ca-c2e825e80cd1"
      },
      "outputs": [
        {
          "output_type": "stream",
          "name": "stdout",
          "text": [
            "{'loss': [1.3698655366897583, 0.9466642737388611, 0.7029302716255188, 0.46882501244544983, 0.2674042880535126, 0.11669886857271194, 0.048320360481739044, 0.043411921709775925, 0.036526743322610855, 0.06574162095785141], 'accuracy': [0.45538148283958435, 0.627043604850769, 0.7356948256492615, 0.8348092436790466, 0.9107629656791687, 0.9632152318954468, 0.9884195923805237, 0.988760232925415, 0.9908038377761841, 0.9799046516418457], 'val_loss': [1.172158122062683, 1.1042569875717163, 1.124140977859497, 1.2180848121643066, 1.5124543905258179, 1.722170114517212, 2.161418914794922, 2.2416772842407227, 2.421945571899414, 2.4018869400024414], 'val_accuracy': [0.5204359889030457, 0.5790190696716309, 0.5940054655075073, 0.5681198835372925, 0.5762943029403687, 0.5749318599700928, 0.5694822669029236, 0.587193489074707, 0.5899182558059692, 0.5749318599700928]}\n"
          ]
        }
      ],
      "source": [
        "print(history.history)"
      ]
    },
    {
      "cell_type": "markdown",
      "metadata": {
        "id": "BiNTiGZRqqEU"
      },
      "source": [
        "10) Визуализация данных"
      ]
    },
    {
      "cell_type": "code",
      "execution_count": null,
      "metadata": {
        "id": "6p_qS-YFqtVp",
        "colab": {
          "base_uri": "https://localhost:8080/",
          "height": 716
        },
        "outputId": "1e2fe84e-09be-436b-ff14-a24cb6ecc4e0"
      },
      "outputs": [
        {
          "output_type": "execute_result",
          "data": {
            "text/plain": [
              "<function matplotlib.pyplot.show(close=None, block=None)>"
            ]
          },
          "metadata": {},
          "execution_count": 11
        },
        {
          "output_type": "display_data",
          "data": {
            "text/plain": [
              "<Figure size 800x800 with 2 Axes>"
            ],
            "image/png": "[encoded data removed]"
          },
          "metadata": {}
        }
      ],
      "source": [
        "acc: list[float] = history.history['accuracy']\n",
        "val_acc: list[float] = history.history['val_accuracy']\n",
        "loss: list[float] = history.history['loss']\n",
        "val_loss: list[float] = history.history['val_loss']\n",
        "epochs_range: range = range(epochs)\n",
        "\n",
        "plt.figure(figsize=(8,8))\n",
        "plt.subplot(1, 2, 1)\n",
        "plt.plot(epochs_range, acc, label='Training Accuracy')\n",
        "plt.plot(epochs_range, val_acc, label='Validation Accuracy')\n",
        "plt.legend(loc='lower right')\n",
        "plt.title('Training and Validation Accuracy')\n",
        "\n",
        "plt.subplot(1, 2, 2)\n",
        "plt.plot(epochs_range, loss, label='Training Loss')\n",
        "plt.plot(epochs_range, val_loss, label='Validation Loss')\n",
        "plt.legend(loc='lower left')\n",
        "plt.title('Training and Validation Loss')\n",
        "plt.show\n"
      ]
    },
    {
      "cell_type": "markdown",
      "source": [
        "ML #5 Дообучение нейронной сети"
      ],
      "metadata": {
        "id": "zJTcXFbZyqOU"
      }
    },
    {
      "cell_type": "markdown",
      "source": [
        "1) Дообучение модели\n"
      ],
      "metadata": {
        "id": "FrlJjiJEyyjR"
      }
    },
    {
      "cell_type": "code",
      "source": [
        "epochs: int = 20\n",
        "history: keras.callbacks.History = model.fit(\n",
        "    train_ds,\n",
        "    validation_data = val_ds,\n",
        "    epochs=epochs\n",
        ")\n"
      ],
      "metadata": {
        "colab": {
          "base_uri": "https://localhost:8080/"
        },
        "id": "R3uZhHiXy4Tc",
        "outputId": "cf70c188-9bb7-477e-f286-ffd0836a4f69"
      },
      "execution_count": null,
      "outputs": [
        {
          "output_type": "stream",
          "name": "stdout",
          "text": [
            "Epoch 1/20\n",
            "92/92 [==============================] - 131s 1s/step - loss: 0.0245 - accuracy: 0.9959 - val_loss: 2.5480 - val_accuracy: 0.5504\n",
            "Epoch 2/20\n",
            "92/92 [==============================] - 125s 1s/step - loss: 0.0166 - accuracy: 0.9969 - val_loss: 2.6352 - val_accuracy: 0.5858\n",
            "Epoch 3/20\n",
            "92/92 [==============================] - 137s 1s/step - loss: 0.0068 - accuracy: 0.9993 - val_loss: 2.6242 - val_accuracy: 0.5913\n",
            "Epoch 4/20\n",
            "92/92 [==============================] - 139s 1s/step - loss: 0.0025 - accuracy: 0.9997 - val_loss: 2.7993 - val_accuracy: 0.5777\n",
            "Epoch 5/20\n",
            "92/92 [==============================] - 136s 1s/step - loss: 0.0032 - accuracy: 0.9997 - val_loss: 2.8243 - val_accuracy: 0.5831\n",
            "Epoch 6/20\n",
            "92/92 [==============================] - 123s 1s/step - loss: 0.0025 - accuracy: 0.9997 - val_loss: 2.9213 - val_accuracy: 0.5654\n",
            "Epoch 7/20\n",
            "92/92 [==============================] - 159s 2s/step - loss: 0.0034 - accuracy: 0.9997 - val_loss: 2.8702 - val_accuracy: 0.5845\n",
            "Epoch 8/20\n",
            "92/92 [==============================] - 153s 2s/step - loss: 0.0048 - accuracy: 0.9993 - val_loss: 2.6584 - val_accuracy: 0.5872\n",
            "Epoch 9/20\n",
            "92/92 [==============================] - 143s 2s/step - loss: 0.0021 - accuracy: 0.9997 - val_loss: 2.7419 - val_accuracy: 0.5763\n",
            "Epoch 10/20\n",
            "92/92 [==============================] - 128s 1s/step - loss: 0.0034 - accuracy: 0.9993 - val_loss: 2.8553 - val_accuracy: 0.5695\n",
            "Epoch 11/20\n",
            "92/92 [==============================] - 121s 1s/step - loss: 0.0022 - accuracy: 0.9997 - val_loss: 2.8434 - val_accuracy: 0.5899\n",
            "Epoch 12/20\n",
            "92/92 [==============================] - 120s 1s/step - loss: 0.0034 - accuracy: 0.9993 - val_loss: 2.6244 - val_accuracy: 0.5899\n",
            "Epoch 13/20\n",
            "92/92 [==============================] - 149s 2s/step - loss: 0.0028 - accuracy: 0.9993 - val_loss: 2.7076 - val_accuracy: 0.5940\n",
            "Epoch 14/20\n",
            "92/92 [==============================] - 149s 2s/step - loss: 0.0026 - accuracy: 0.9993 - val_loss: 2.7027 - val_accuracy: 0.5886\n",
            "Epoch 15/20\n",
            "92/92 [==============================] - 134s 1s/step - loss: 0.0015 - accuracy: 0.9997 - val_loss: 2.9198 - val_accuracy: 0.5708\n",
            "Epoch 16/20\n",
            "92/92 [==============================] - 121s 1s/step - loss: 0.0018 - accuracy: 0.9997 - val_loss: 2.8959 - val_accuracy: 0.5831\n",
            "Epoch 17/20\n",
            "92/92 [==============================] - 120s 1s/step - loss: 0.0013 - accuracy: 0.9997 - val_loss: 2.9218 - val_accuracy: 0.5777\n",
            "Epoch 18/20\n",
            "92/92 [==============================] - 120s 1s/step - loss: 0.0017 - accuracy: 0.9997 - val_loss: 2.8864 - val_accuracy: 0.5817\n",
            "Epoch 19/20\n",
            "92/92 [==============================] - 122s 1s/step - loss: 0.0026 - accuracy: 0.9993 - val_loss: 2.8443 - val_accuracy: 0.5777\n",
            "Epoch 20/20\n",
            "92/92 [==============================] - 116s 1s/step - loss: 0.0013 - accuracy: 0.9997 - val_loss: 2.9184 - val_accuracy: 0.5790\n"
          ]
        }
      ]
    },
    {
      "cell_type": "markdown",
      "source": [
        "2) Визуализация результатов обучения нейронной сети"
      ],
      "metadata": {
        "id": "CCqZNfy9zrt_"
      }
    },
    {
      "cell_type": "code",
      "source": [
        "acc: list[float] = history.history['accuracy']\n",
        "val_acc: list[float] = history.history['val_accuracy']\n",
        "loss: list[float] = history.history['loss']\n",
        "val_loss: list[float] = history.history['val_loss']\n",
        "epochs_range: list[int] = range(epochs)\n",
        "\n",
        "plt.figure(figsize=(8,8))\n",
        "plt.subplot(1, 2, 1)\n",
        "plt.plot(epochs_range, acc, label='Training Accuracy')\n",
        "plt.plot(epochs_range, val_acc, label='Validation Accuracy')\n",
        "plt.legend(loc='lower left')\n",
        "plt.title('Training and Validation Accuracy')\n",
        "\n",
        "plt.subplot(1, 2, 2)\n",
        "plt.plot(epochs_range, loss, label='Training loss 2')\n",
        "plt.plot(epochs_range, val_loss, label='Validation loss 2')\n",
        "plt.legend(loc='lower right')\n",
        "plt.title('Training and Validation loss 2')\n",
        "plt.show"
      ],
      "metadata": {
        "colab": {
          "base_uri": "https://localhost:8080/",
          "height": 716
        },
        "id": "ISGOOCf_zy8c",
        "outputId": "577c4651-3960-4f0d-d6d0-dcb9a3217caf"
      },
      "execution_count": null,
      "outputs": [
        {
          "output_type": "execute_result",
          "data": {
            "text/plain": [
              "<function matplotlib.pyplot.show(close=None, block=None)>"
            ]
          },
          "metadata": {},
          "execution_count": 16
        },
        {
          "output_type": "display_data",
          "data": {
            "text/plain": [
              "<Figure size 800x800 with 2 Axes>"
            ],
            "image/png": "[encoded data removed]"
          },
          "metadata": {}
        }
      ]
    },
    {
      "cell_type": "markdown",
      "source": [
        "3) Инференс модели"
      ],
      "metadata": {
        "id": "C3lLczj34nx_"
      }
    },
    {
      "cell_type": "code",
      "source": [
        "sunflower_url: str = \"https://storage.googleapis.com/download.tensorflow.org/example_images/592px-Red_sunflower.jpg\"\n",
        "sunflower_path: str = tf.keras.utils.get_file('Red_sunflower', origin=sunflower_url)\n",
        "\n",
        "img: PIL.JpegImagePlugin.JpegImageFile = tf.keras.utils.load_img(\n",
        "    sunflower_path, target_size=(img_height, img_widht)\n",
        ")\n",
        "img_array: np.ndarray = tf.keras.utils.img_to_array(img)\n",
        "img_array = tf.expand_dims(img_array, 0)\n",
        "predictions: np.ndarray = model.predict(img_array)\n",
        "score: tf.Tensor = tf.nn.softmax(predictions[0])\n",
        "\n",
        "print('На изображении  {} ({:.2f}% вероятность)'.format(\n",
        "    class_names[np.argmax(score)],\n",
        "    100 * np.max(score)\n",
        "))\n"
      ],
      "metadata": {
        "colab": {
          "base_uri": "https://localhost:8080/"
        },
        "id": "sgg_-YGM4zqN",
        "outputId": "6dc513ab-96c3-433b-f7ea-b0b4dbc35023"
      },
      "execution_count": null,
      "outputs": [
        {
          "output_type": "stream",
          "name": "stdout",
          "text": [
            "1/1 [==============================] - 0s 144ms/step\n",
            "На изображении  sunflowers (99.93% вероятность)\n"
          ]
        }
      ]
    },
    {
      "cell_type": "markdown",
      "source": [
        "4) Сохранение модели локально"
      ],
      "metadata": {
        "id": "hKNbOk7H-wmk"
      }
    },
    {
      "cell_type": "code",
      "source": [
        "from google.colab import files\n",
        "\n",
        "model_file_name: str = \"my_flowers_model.h5\"\n",
        "model.save(model_file_name)\n",
        "files.download(model_file_name)"
      ],
      "metadata": {
        "colab": {
          "base_uri": "https://localhost:8080/",
          "height": 72
        },
        "id": "3r6klm69-3k-",
        "outputId": "0e4173f2-f7e7-46f0-9262-634c8f7dff3a"
      },
      "execution_count": null,
      "outputs": [
        {
          "output_type": "stream",
          "name": "stderr",
          "text": [
            "/usr/local/lib/python3.10/dist-packages/keras/src/engine/training.py:3103: UserWarning: You are saving your model as an HDF5 file via `model.save()`. This file format is considered legacy. We recommend using instead the native Keras format, e.g. `model.save('my_model.keras')`.\n",
            "  saving_api.save_model(\n"
          ]
        },
        {
          "output_type": "display_data",
          "data": {
            "text/plain": [
              "<IPython.core.display.Javascript object>"
            ],
            "application/javascript": [
              "\n",
              "    async function download(id, filename, size) {\n",
              "      if (!google.colab.kernel.accessAllowed) {\n",
              "        return;\n",
              "      }\n",
              "      const div = document.createElement('div');\n",
              "      const label = document.createElement('label');\n",
              "      label.textContent = `Downloading \"${filename}\": `;\n",
              "      div.appendChild(label);\n",
              "      const progress = document.createElement('progress');\n",
              "      progress.max = size;\n",
              "      div.appendChild(progress);\n",
              "      document.body.appendChild(div);\n",
              "\n",
              "      const buffers = [];\n",
              "      let downloaded = 0;\n",
              "\n",
              "      const channel = await google.colab.kernel.comms.open(id);\n",
              "      // Send a message to notify the kernel that we're ready.\n",
              "      channel.send({})\n",
              "\n",
              "      for await (const message of channel.messages) {\n",
              "        // Send a message to notify the kernel that we're ready.\n",
              "        channel.send({})\n",
              "        if (message.buffers) {\n",
              "          for (const buffer of message.buffers) {\n",
              "            buffers.push(buffer);\n",
              "            downloaded += buffer.byteLength;\n",
              "            progress.value = downloaded;\n",
              "          }\n",
              "        }\n",
              "      }\n",
              "      const blob = new Blob(buffers, {type: 'application/binary'});\n",
              "      const a = document.createElement('a');\n",
              "      a.href = window.URL.createObjectURL(blob);\n",
              "      a.download = filename;\n",
              "      div.appendChild(a);\n",
              "      a.click();\n",
              "      div.remove();\n",
              "    }\n",
              "  "
            ]
          },
          "metadata": {}
        },
        {
          "output_type": "display_data",
          "data": {
            "text/plain": [
              "<IPython.core.display.Javascript object>"
            ],
            "application/javascript": [
              "download(\"download_5029cf47-49b8-4417-a76a-c68bb5654d6c\", \"my_flowers_model.h5\", 199411104)"
            ]
          },
          "metadata": {}
        }
      ]
    }
  ],
  "metadata": {
    "colab": {
      "provenance": [],
      "authorship_tag": "ABX9TyM0J8upP3UIwjOhpAYI0c2k",
      "include_colab_link": true
    },
    "kernelspec": {
      "display_name": "Python 3",
      "name": "python3"
    },
    "language_info": {
      "name": "python"
    }
  },
  "nbformat": 4,
  "nbformat_minor": 0
}
